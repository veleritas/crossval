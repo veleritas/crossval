{
 "cells": [
  {
   "cell_type": "markdown",
   "metadata": {},
   "source": [
    "# Split PharmacotherapyDB into multiple pieces\n",
    "\n",
    "Tong Shu Li\n",
    "\n",
    "For cross validation, the original training data needs to be split into multiple pieces in order to keep training and testing data separate."
   ]
  },
  {
   "cell_type": "code",
   "execution_count": 1,
   "metadata": {
    "collapsed": true
   },
   "outputs": [],
   "source": [
    "import pandas as pd\n",
    "import numpy as np\n",
    "\n",
    "from itertools import product"
   ]
  },
  {
   "cell_type": "code",
   "execution_count": 2,
   "metadata": {
    "collapsed": false
   },
   "outputs": [
    {
     "data": {
      "text/plain": [
       "'1.13.1'"
      ]
     },
     "execution_count": 2,
     "metadata": {},
     "output_type": "execute_result"
    }
   ],
   "source": [
    "np.__version__"
   ]
  },
  {
   "cell_type": "code",
   "execution_count": 3,
   "metadata": {
    "collapsed": false
   },
   "outputs": [],
   "source": [
    "np.random.seed(20161018)"
   ]
  },
  {
   "cell_type": "markdown",
   "metadata": {},
   "source": [
    "---"
   ]
  },
  {
   "cell_type": "markdown",
   "metadata": {},
   "source": [
    "## Load PharmacotherapyDB"
   ]
  },
  {
   "cell_type": "code",
   "execution_count": 4,
   "metadata": {
    "collapsed": false
   },
   "outputs": [],
   "source": [
    "goldstd = pd.read_csv(\"data/indications.tsv\", sep = '\\t')"
   ]
  },
  {
   "cell_type": "code",
   "execution_count": 5,
   "metadata": {
    "collapsed": false
   },
   "outputs": [
    {
     "data": {
      "text/plain": [
       "(1388, 7)"
      ]
     },
     "execution_count": 5,
     "metadata": {},
     "output_type": "execute_result"
    }
   ],
   "source": [
    "goldstd.shape"
   ]
  },
  {
   "cell_type": "code",
   "execution_count": 6,
   "metadata": {
    "collapsed": false
   },
   "outputs": [
    {
     "data": {
      "text/html": [
       "<div>\n",
       "<style>\n",
       "    .dataframe thead tr:only-child th {\n",
       "        text-align: right;\n",
       "    }\n",
       "\n",
       "    .dataframe thead th {\n",
       "        text-align: left;\n",
       "    }\n",
       "\n",
       "    .dataframe tbody tr th {\n",
       "        vertical-align: top;\n",
       "    }\n",
       "</style>\n",
       "<table border=\"1\" class=\"dataframe\">\n",
       "  <thead>\n",
       "    <tr style=\"text-align: right;\">\n",
       "      <th></th>\n",
       "      <th>doid_id</th>\n",
       "      <th>drugbank_id</th>\n",
       "      <th>disease</th>\n",
       "      <th>drug</th>\n",
       "      <th>category</th>\n",
       "      <th>n_curators</th>\n",
       "      <th>n_resources</th>\n",
       "    </tr>\n",
       "  </thead>\n",
       "  <tbody>\n",
       "    <tr>\n",
       "      <th>0</th>\n",
       "      <td>DOID:10652</td>\n",
       "      <td>DB00843</td>\n",
       "      <td>Alzheimer's disease</td>\n",
       "      <td>Donepezil</td>\n",
       "      <td>DM</td>\n",
       "      <td>2</td>\n",
       "      <td>1</td>\n",
       "    </tr>\n",
       "    <tr>\n",
       "      <th>1</th>\n",
       "      <td>DOID:10652</td>\n",
       "      <td>DB00674</td>\n",
       "      <td>Alzheimer's disease</td>\n",
       "      <td>Galantamine</td>\n",
       "      <td>DM</td>\n",
       "      <td>1</td>\n",
       "      <td>4</td>\n",
       "    </tr>\n",
       "    <tr>\n",
       "      <th>2</th>\n",
       "      <td>DOID:10652</td>\n",
       "      <td>DB01043</td>\n",
       "      <td>Alzheimer's disease</td>\n",
       "      <td>Memantine</td>\n",
       "      <td>DM</td>\n",
       "      <td>1</td>\n",
       "      <td>3</td>\n",
       "    </tr>\n",
       "    <tr>\n",
       "      <th>3</th>\n",
       "      <td>DOID:10652</td>\n",
       "      <td>DB00989</td>\n",
       "      <td>Alzheimer's disease</td>\n",
       "      <td>Rivastigmine</td>\n",
       "      <td>DM</td>\n",
       "      <td>1</td>\n",
       "      <td>3</td>\n",
       "    </tr>\n",
       "    <tr>\n",
       "      <th>4</th>\n",
       "      <td>DOID:10652</td>\n",
       "      <td>DB00245</td>\n",
       "      <td>Alzheimer's disease</td>\n",
       "      <td>Benzatropine</td>\n",
       "      <td>SYM</td>\n",
       "      <td>3</td>\n",
       "      <td>1</td>\n",
       "    </tr>\n",
       "  </tbody>\n",
       "</table>\n",
       "</div>"
      ],
      "text/plain": [
       "      doid_id drugbank_id              disease          drug category  \\\n",
       "0  DOID:10652     DB00843  Alzheimer's disease     Donepezil       DM   \n",
       "1  DOID:10652     DB00674  Alzheimer's disease   Galantamine       DM   \n",
       "2  DOID:10652     DB01043  Alzheimer's disease     Memantine       DM   \n",
       "3  DOID:10652     DB00989  Alzheimer's disease  Rivastigmine       DM   \n",
       "4  DOID:10652     DB00245  Alzheimer's disease  Benzatropine      SYM   \n",
       "\n",
       "   n_curators  n_resources  \n",
       "0           2            1  \n",
       "1           1            4  \n",
       "2           1            3  \n",
       "3           1            3  \n",
       "4           3            1  "
      ]
     },
     "execution_count": 6,
     "metadata": {},
     "output_type": "execute_result"
    }
   ],
   "source": [
    "goldstd.head()"
   ]
  },
  {
   "cell_type": "code",
   "execution_count": 7,
   "metadata": {
    "collapsed": false
   },
   "outputs": [
    {
     "data": {
      "text/plain": [
       "DM     755\n",
       "SYM    390\n",
       "NOT    243\n",
       "Name: category, dtype: int64"
      ]
     },
     "execution_count": 7,
     "metadata": {},
     "output_type": "execute_result"
    }
   ],
   "source": [
    "goldstd[\"category\"].value_counts()"
   ]
  },
  {
   "cell_type": "markdown",
   "metadata": {},
   "source": [
    "## Remove useless columns\n",
    "\n",
    "The `n_curators` and `n_resources` columns are not needed for the subsequent portions of the pipeline. The columns names need to also be standardized for simplicity and expandability."
   ]
  },
  {
   "cell_type": "code",
   "execution_count": 8,
   "metadata": {
    "collapsed": true
   },
   "outputs": [],
   "source": [
    "goldstd = (goldstd\n",
    "    .drop([\"n_curators\", \"n_resources\"], axis=1)\n",
    "    .rename(columns={\n",
    "        \"drugbank_id\": \"chemical_id\",\n",
    "        \"drug\": \"chemical_name\",\n",
    "        \"doid_id\": \"disease_id\",\n",
    "        \"disease\": \"disease_name\"\n",
    "    })\n",
    ")"
   ]
  },
  {
   "cell_type": "code",
   "execution_count": 9,
   "metadata": {
    "collapsed": false
   },
   "outputs": [
    {
     "data": {
      "text/html": [
       "<div>\n",
       "<style>\n",
       "    .dataframe thead tr:only-child th {\n",
       "        text-align: right;\n",
       "    }\n",
       "\n",
       "    .dataframe thead th {\n",
       "        text-align: left;\n",
       "    }\n",
       "\n",
       "    .dataframe tbody tr th {\n",
       "        vertical-align: top;\n",
       "    }\n",
       "</style>\n",
       "<table border=\"1\" class=\"dataframe\">\n",
       "  <thead>\n",
       "    <tr style=\"text-align: right;\">\n",
       "      <th></th>\n",
       "      <th>disease_id</th>\n",
       "      <th>chemical_id</th>\n",
       "      <th>disease_name</th>\n",
       "      <th>chemical_name</th>\n",
       "      <th>category</th>\n",
       "    </tr>\n",
       "  </thead>\n",
       "  <tbody>\n",
       "    <tr>\n",
       "      <th>0</th>\n",
       "      <td>DOID:10652</td>\n",
       "      <td>DB00843</td>\n",
       "      <td>Alzheimer's disease</td>\n",
       "      <td>Donepezil</td>\n",
       "      <td>DM</td>\n",
       "    </tr>\n",
       "    <tr>\n",
       "      <th>1</th>\n",
       "      <td>DOID:10652</td>\n",
       "      <td>DB00674</td>\n",
       "      <td>Alzheimer's disease</td>\n",
       "      <td>Galantamine</td>\n",
       "      <td>DM</td>\n",
       "    </tr>\n",
       "    <tr>\n",
       "      <th>2</th>\n",
       "      <td>DOID:10652</td>\n",
       "      <td>DB01043</td>\n",
       "      <td>Alzheimer's disease</td>\n",
       "      <td>Memantine</td>\n",
       "      <td>DM</td>\n",
       "    </tr>\n",
       "    <tr>\n",
       "      <th>3</th>\n",
       "      <td>DOID:10652</td>\n",
       "      <td>DB00989</td>\n",
       "      <td>Alzheimer's disease</td>\n",
       "      <td>Rivastigmine</td>\n",
       "      <td>DM</td>\n",
       "    </tr>\n",
       "    <tr>\n",
       "      <th>4</th>\n",
       "      <td>DOID:10652</td>\n",
       "      <td>DB00245</td>\n",
       "      <td>Alzheimer's disease</td>\n",
       "      <td>Benzatropine</td>\n",
       "      <td>SYM</td>\n",
       "    </tr>\n",
       "  </tbody>\n",
       "</table>\n",
       "</div>"
      ],
      "text/plain": [
       "   disease_id chemical_id         disease_name chemical_name category\n",
       "0  DOID:10652     DB00843  Alzheimer's disease     Donepezil       DM\n",
       "1  DOID:10652     DB00674  Alzheimer's disease   Galantamine       DM\n",
       "2  DOID:10652     DB01043  Alzheimer's disease     Memantine       DM\n",
       "3  DOID:10652     DB00989  Alzheimer's disease  Rivastigmine       DM\n",
       "4  DOID:10652     DB00245  Alzheimer's disease  Benzatropine      SYM"
      ]
     },
     "execution_count": 9,
     "metadata": {},
     "output_type": "execute_result"
    }
   ],
   "source": [
    "goldstd.head()"
   ]
  },
  {
   "cell_type": "markdown",
   "metadata": {},
   "source": [
    "---"
   ]
  },
  {
   "cell_type": "markdown",
   "metadata": {},
   "source": [
    "## Number of unique chemicals and diseases"
   ]
  },
  {
   "cell_type": "code",
   "execution_count": 10,
   "metadata": {
    "collapsed": false
   },
   "outputs": [
    {
     "data": {
      "text/plain": [
       "97"
      ]
     },
     "execution_count": 10,
     "metadata": {},
     "output_type": "execute_result"
    }
   ],
   "source": [
    "goldstd[\"disease_id\"].nunique()"
   ]
  },
  {
   "cell_type": "code",
   "execution_count": 11,
   "metadata": {
    "collapsed": false
   },
   "outputs": [
    {
     "data": {
      "text/plain": [
       "601"
      ]
     },
     "execution_count": 11,
     "metadata": {},
     "output_type": "execute_result"
    }
   ],
   "source": [
    "goldstd[\"chemical_id\"].nunique()"
   ]
  },
  {
   "cell_type": "code",
   "execution_count": 12,
   "metadata": {
    "collapsed": false
   },
   "outputs": [
    {
     "data": {
      "text/plain": [
       "58297"
      ]
     },
     "execution_count": 12,
     "metadata": {},
     "output_type": "execute_result"
    }
   ],
   "source": [
    "# number of unique chemical/disease combinations\n",
    "\n",
    "goldstd[\"disease_id\"].nunique() * goldstd[\"chemical_id\"].nunique()"
   ]
  },
  {
   "cell_type": "markdown",
   "metadata": {},
   "source": [
    "## Split into multiple pieces\n",
    "\n",
    "For K-fold validation, the entire workflow needs to be run K times. The value of K is chosen to be 5 to avoid excessive computational requirements.\n",
    "\n",
    "We will split the data by assigning each piece of data a number from 0 to K-1, and group data rows according to the piece number. This will ensure that each row of data is used, and that the ratios of true/false examples per group is the same."
   ]
  },
  {
   "cell_type": "code",
   "execution_count": 13,
   "metadata": {
    "collapsed": true
   },
   "outputs": [],
   "source": [
    "K = 5\n",
    "goldstd[\"piece\"] = np.random.randint(0, K, len(goldstd))"
   ]
  },
  {
   "cell_type": "code",
   "execution_count": 14,
   "metadata": {
    "collapsed": false
   },
   "outputs": [
    {
     "data": {
      "text/html": [
       "<div>\n",
       "<style>\n",
       "    .dataframe thead tr:only-child th {\n",
       "        text-align: right;\n",
       "    }\n",
       "\n",
       "    .dataframe thead th {\n",
       "        text-align: left;\n",
       "    }\n",
       "\n",
       "    .dataframe tbody tr th {\n",
       "        vertical-align: top;\n",
       "    }\n",
       "</style>\n",
       "<table border=\"1\" class=\"dataframe\">\n",
       "  <thead>\n",
       "    <tr style=\"text-align: right;\">\n",
       "      <th></th>\n",
       "      <th>disease_id</th>\n",
       "      <th>chemical_id</th>\n",
       "      <th>disease_name</th>\n",
       "      <th>chemical_name</th>\n",
       "      <th>category</th>\n",
       "      <th>piece</th>\n",
       "    </tr>\n",
       "  </thead>\n",
       "  <tbody>\n",
       "    <tr>\n",
       "      <th>0</th>\n",
       "      <td>DOID:10652</td>\n",
       "      <td>DB00843</td>\n",
       "      <td>Alzheimer's disease</td>\n",
       "      <td>Donepezil</td>\n",
       "      <td>DM</td>\n",
       "      <td>0</td>\n",
       "    </tr>\n",
       "    <tr>\n",
       "      <th>1</th>\n",
       "      <td>DOID:10652</td>\n",
       "      <td>DB00674</td>\n",
       "      <td>Alzheimer's disease</td>\n",
       "      <td>Galantamine</td>\n",
       "      <td>DM</td>\n",
       "      <td>0</td>\n",
       "    </tr>\n",
       "    <tr>\n",
       "      <th>2</th>\n",
       "      <td>DOID:10652</td>\n",
       "      <td>DB01043</td>\n",
       "      <td>Alzheimer's disease</td>\n",
       "      <td>Memantine</td>\n",
       "      <td>DM</td>\n",
       "      <td>2</td>\n",
       "    </tr>\n",
       "    <tr>\n",
       "      <th>3</th>\n",
       "      <td>DOID:10652</td>\n",
       "      <td>DB00989</td>\n",
       "      <td>Alzheimer's disease</td>\n",
       "      <td>Rivastigmine</td>\n",
       "      <td>DM</td>\n",
       "      <td>4</td>\n",
       "    </tr>\n",
       "    <tr>\n",
       "      <th>4</th>\n",
       "      <td>DOID:10652</td>\n",
       "      <td>DB00245</td>\n",
       "      <td>Alzheimer's disease</td>\n",
       "      <td>Benzatropine</td>\n",
       "      <td>SYM</td>\n",
       "      <td>1</td>\n",
       "    </tr>\n",
       "  </tbody>\n",
       "</table>\n",
       "</div>"
      ],
      "text/plain": [
       "   disease_id chemical_id         disease_name chemical_name category  piece\n",
       "0  DOID:10652     DB00843  Alzheimer's disease     Donepezil       DM      0\n",
       "1  DOID:10652     DB00674  Alzheimer's disease   Galantamine       DM      0\n",
       "2  DOID:10652     DB01043  Alzheimer's disease     Memantine       DM      2\n",
       "3  DOID:10652     DB00989  Alzheimer's disease  Rivastigmine       DM      4\n",
       "4  DOID:10652     DB00245  Alzheimer's disease  Benzatropine      SYM      1"
      ]
     },
     "execution_count": 14,
     "metadata": {},
     "output_type": "execute_result"
    }
   ],
   "source": [
    "goldstd.head()"
   ]
  },
  {
   "cell_type": "code",
   "execution_count": 15,
   "metadata": {
    "collapsed": false
   },
   "outputs": [
    {
     "data": {
      "text/plain": [
       "0    291\n",
       "1    289\n",
       "2    275\n",
       "4    269\n",
       "3    264\n",
       "Name: piece, dtype: int64"
      ]
     },
     "execution_count": 15,
     "metadata": {},
     "output_type": "execute_result"
    }
   ],
   "source": [
    "goldstd[\"piece\"].value_counts()"
   ]
  },
  {
   "cell_type": "code",
   "execution_count": 16,
   "metadata": {
    "collapsed": false
   },
   "outputs": [
    {
     "data": {
      "text/plain": [
       "0    0.209654\n",
       "1    0.208213\n",
       "2    0.198127\n",
       "4    0.193804\n",
       "3    0.190202\n",
       "Name: piece, dtype: float64"
      ]
     },
     "execution_count": 16,
     "metadata": {},
     "output_type": "execute_result"
    }
   ],
   "source": [
    "goldstd[\"piece\"].value_counts(normalize = True)"
   ]
  },
  {
   "cell_type": "markdown",
   "metadata": {},
   "source": [
    "Each piece has almost exactly 20% of the data."
   ]
  },
  {
   "cell_type": "code",
   "execution_count": 17,
   "metadata": {
    "collapsed": false
   },
   "outputs": [
    {
     "name": "stdout",
     "output_type": "stream",
     "text": [
      "Group: 0\n",
      "DM     163\n",
      "SYM     79\n",
      "NOT     49\n",
      "Name: category, dtype: int64\n",
      "\n",
      "Group: 1\n",
      "DM     160\n",
      "SYM     81\n",
      "NOT     48\n",
      "Name: category, dtype: int64\n",
      "\n",
      "Group: 2\n",
      "DM     158\n",
      "SYM     72\n",
      "NOT     45\n",
      "Name: category, dtype: int64\n",
      "\n",
      "Group: 3\n",
      "DM     134\n",
      "SYM     76\n",
      "NOT     54\n",
      "Name: category, dtype: int64\n",
      "\n",
      "Group: 4\n",
      "DM     140\n",
      "SYM     82\n",
      "NOT     47\n",
      "Name: category, dtype: int64\n",
      "\n"
     ]
    }
   ],
   "source": [
    "# verify that the true/false ratios for each piece is similar\n",
    "for group, df in goldstd.groupby(\"piece\"):\n",
    "    print(\"Group:\", group)\n",
    "    print(df[\"category\"].value_counts())\n",
    "    print()"
   ]
  },
  {
   "cell_type": "markdown",
   "metadata": {},
   "source": [
    "---"
   ]
  },
  {
   "cell_type": "markdown",
   "metadata": {},
   "source": [
    "## Data separation\n",
    "\n",
    "Ensure that all possible chemical-disease pairs in the holdout set are missing from the training data. This is to ensure that the algorithm never sees data which will be used to test the trained model."
   ]
  },
  {
   "cell_type": "code",
   "execution_count": 18,
   "metadata": {
    "collapsed": true
   },
   "outputs": [],
   "source": [
    "def all_pairs(df):\n",
    "    chem = df[\"chemical_id\"].unique()\n",
    "    dise = df[\"disease_id\"].unique()\n",
    "    \n",
    "    return set(product(chem, dise))\n",
    "\n",
    "def pair_to_df(pairs):\n",
    "    return pd.DataFrame(list(pairs), columns = [\"chemical_id\", \"disease_id\"])\n",
    "\n",
    "def df_to_pairs(df):\n",
    "    return set(zip(df[\"chemical_id\"], df[\"disease_id\"]))"
   ]
  },
  {
   "cell_type": "code",
   "execution_count": 19,
   "metadata": {
    "collapsed": true
   },
   "outputs": [],
   "source": [
    "def split_data(withheld):\n",
    "    holdout = goldstd.query(\"piece == @withheld\")\n",
    "    train = goldstd.query(\"piece != @withheld\")\n",
    "    \n",
    "    # create all chemical-disease pairs\n",
    "    holdout_p = all_pairs(holdout)\n",
    "    train_p = all_pairs(train)\n",
    "    \n",
    "    train_assumed_false = train_p - df_to_pairs(train)\n",
    "    \n",
    "    overlap = holdout_p & train_assumed_false\n",
    "    \n",
    "    print(\"Number of overlaps for holdout set {}: {}\".format(withheld, len(overlap)))\n",
    "\n",
    "    train_assumed_false -= overlap\n",
    "    \n",
    "    # check that no negative training examples are in the holdout set\n",
    "    assert train_assumed_false.isdisjoint(holdout_p)\n",
    "    \n",
    "    # check that there is no pharmacotherapydb overlap\n",
    "    assert df_to_pairs(train).isdisjoint(df_to_pairs(holdout))\n",
    "    \n",
    "    # there will be some training examples which are potential candidates of the holdout\n",
    "    \n",
    "    train_df = train.append(pair_to_df(train_assumed_false))\n",
    "    \n",
    "    holdout_df = pair_to_df(holdout_p).merge(holdout, how = \"left\", on = [\"chemical_id\", \"disease_id\"])\n",
    "    \n",
    "    return (holdout_df, train_df)"
   ]
  },
  {
   "cell_type": "code",
   "execution_count": 20,
   "metadata": {
    "collapsed": false
   },
   "outputs": [
    {
     "name": "stdout",
     "output_type": "stream",
     "text": [
      "Number of overlaps for holdout set 0: 10122\n",
      "DM     163\n",
      "SYM     79\n",
      "NOT     49\n",
      "Name: category, dtype: int64\n",
      "\n",
      "DM     592\n",
      "SYM    311\n",
      "NOT    194\n",
      "Name: category, dtype: int64\n",
      "-----\n",
      "Number of overlaps for holdout set 1: 8972\n",
      "DM     160\n",
      "SYM     81\n",
      "NOT     48\n",
      "Name: category, dtype: int64\n",
      "\n",
      "DM     595\n",
      "SYM    309\n",
      "NOT    195\n",
      "Name: category, dtype: int64\n",
      "-----\n",
      "Number of overlaps for holdout set 2: 8511\n",
      "DM     158\n",
      "SYM     72\n",
      "NOT     45\n",
      "Name: category, dtype: int64\n",
      "\n",
      "DM     597\n",
      "SYM    318\n",
      "NOT    198\n",
      "Name: category, dtype: int64\n",
      "-----\n",
      "Number of overlaps for holdout set 3: 8967\n",
      "DM     134\n",
      "SYM     76\n",
      "NOT     54\n",
      "Name: category, dtype: int64\n",
      "\n",
      "DM     621\n",
      "SYM    314\n",
      "NOT    189\n",
      "Name: category, dtype: int64\n",
      "-----\n",
      "Number of overlaps for holdout set 4: 9006\n",
      "DM     140\n",
      "SYM     82\n",
      "NOT     47\n",
      "Name: category, dtype: int64\n",
      "\n",
      "DM     615\n",
      "SYM    308\n",
      "NOT    196\n",
      "Name: category, dtype: int64\n",
      "-----\n"
     ]
    }
   ],
   "source": [
    "holdouts = dict()\n",
    "training = dict()\n",
    "\n",
    "for withheld in range(K):\n",
    "    hold, train = split_data(withheld)\n",
    "    \n",
    "    holdouts[withheld] = hold.sort_values([\"chemical_id\", \"disease_id\"])\n",
    "    training[withheld] = train.sort_values([\"chemical_id\", \"disease_id\"])\n",
    "    \n",
    "    print(holdouts[withheld][\"category\"].value_counts())\n",
    "    print()\n",
    "    print(training[withheld][\"category\"].value_counts())\n",
    "    print(\"-----\")"
   ]
  },
  {
   "cell_type": "markdown",
   "metadata": {},
   "source": [
    "## Sort the data so that the data is stable"
   ]
  },
  {
   "cell_type": "code",
   "execution_count": 21,
   "metadata": {
    "collapsed": true
   },
   "outputs": [],
   "source": [
    "goldstd = goldstd.sort_values([\"chemical_id\", \"disease_id\"])"
   ]
  },
  {
   "cell_type": "markdown",
   "metadata": {},
   "source": [
    "## Save split pieces to file"
   ]
  },
  {
   "cell_type": "code",
   "execution_count": 22,
   "metadata": {
    "collapsed": true
   },
   "outputs": [],
   "source": [
    "goldstd.to_csv(\"data/split_indications/labeled_pharmacotherapydb.tsv\", sep = '\\t', index = False)"
   ]
  },
  {
   "cell_type": "code",
   "execution_count": 23,
   "metadata": {
    "collapsed": false
   },
   "outputs": [],
   "source": [
    "for idx in range(K):\n",
    "    fname = \"holdout\"\n",
    "    holdouts[idx].to_csv(\"data/{}/{}_piece{}.tsv\".format(fname, fname, idx), sep = '\\t', index = False)\n",
    "    \n",
    "    fname = \"training\"\n",
    "    training[idx].to_csv(\"data/{}/{}_piece{}.tsv\".format(fname, fname, idx), sep = '\\t', index = False)"
   ]
  }
 ],
 "metadata": {
  "kernelspec": {
   "display_name": "Python 3",
   "language": "python",
   "name": "python3"
  },
  "language_info": {
   "codemirror_mode": {
    "name": "ipython",
    "version": 3
   },
   "file_extension": ".py",
   "mimetype": "text/x-python",
   "name": "python",
   "nbconvert_exporter": "python",
   "pygments_lexer": "ipython3",
   "version": "3.5.2"
  }
 },
 "nbformat": 4,
 "nbformat_minor": 0
}
