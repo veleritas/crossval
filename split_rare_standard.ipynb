{
 "cells": [
  {
   "cell_type": "markdown",
   "metadata": {},
   "source": [
    "# Split Rare disease indications into multiple pieces\n",
    "\n",
    "Tong Shu Li\n",
    "\n",
    "For cross validation, the original training data needs to be split into multiple pieces in order to keep training and testing data separate."
   ]
  },
  {
   "cell_type": "code",
   "execution_count": 1,
   "metadata": {},
   "outputs": [],
   "source": [
    "import pandas as pd\n",
    "import numpy as np\n",
    "\n",
    "from itertools import product"
   ]
  },
  {
   "cell_type": "code",
   "execution_count": 2,
   "metadata": {},
   "outputs": [
    {
     "data": {
      "text/plain": [
       "'1.13.3'"
      ]
     },
     "execution_count": 2,
     "metadata": {},
     "output_type": "execute_result"
    }
   ],
   "source": [
    "np.__version__"
   ]
  },
  {
   "cell_type": "code",
   "execution_count": 3,
   "metadata": {},
   "outputs": [],
   "source": [
    "np.random.seed(20161018)"
   ]
  },
  {
   "cell_type": "markdown",
   "metadata": {},
   "source": [
    "---"
   ]
  },
  {
   "cell_type": "markdown",
   "metadata": {},
   "source": [
    "## Load rare disease indications"
   ]
  },
  {
   "cell_type": "code",
   "execution_count": 4,
   "metadata": {},
   "outputs": [],
   "source": [
    "goldstd = pd.read_csv(\"data/rare_dise_indications.tsv\", sep = '\\t')"
   ]
  },
  {
   "cell_type": "code",
   "execution_count": 5,
   "metadata": {},
   "outputs": [
    {
     "data": {
      "text/html": [
       "<div>\n",
       "<style>\n",
       "    .dataframe thead tr:only-child th {\n",
       "        text-align: right;\n",
       "    }\n",
       "\n",
       "    .dataframe thead th {\n",
       "        text-align: left;\n",
       "    }\n",
       "\n",
       "    .dataframe tbody tr th {\n",
       "        vertical-align: top;\n",
       "    }\n",
       "</style>\n",
       "<table border=\"1\" class=\"dataframe\">\n",
       "  <thead>\n",
       "    <tr style=\"text-align: right;\">\n",
       "      <th></th>\n",
       "      <th>relationship_name</th>\n",
       "      <th>orphanet_id</th>\n",
       "      <th>dise_name</th>\n",
       "      <th>dise_type</th>\n",
       "      <th>drugbank_id</th>\n",
       "      <th>drug_name</th>\n",
       "    </tr>\n",
       "  </thead>\n",
       "  <tbody>\n",
       "    <tr>\n",
       "      <th>0</th>\n",
       "      <td>indication</td>\n",
       "      <td>213711</td>\n",
       "      <td>Endometrial stromal sarcoma</td>\n",
       "      <td>not_genetic</td>\n",
       "      <td>DB00351</td>\n",
       "      <td>Megestrol acetate</td>\n",
       "    </tr>\n",
       "    <tr>\n",
       "      <th>1</th>\n",
       "      <td>indication</td>\n",
       "      <td>70573</td>\n",
       "      <td>Small cell lung cancer</td>\n",
       "      <td>not_genetic</td>\n",
       "      <td>DB01030</td>\n",
       "      <td>Topotecan</td>\n",
       "    </tr>\n",
       "  </tbody>\n",
       "</table>\n",
       "</div>"
      ],
      "text/plain": [
       "  relationship_name  orphanet_id                    dise_name    dise_type  \\\n",
       "0        indication       213711  Endometrial stromal sarcoma  not_genetic   \n",
       "1        indication        70573       Small cell lung cancer  not_genetic   \n",
       "\n",
       "  drugbank_id          drug_name  \n",
       "0     DB00351  Megestrol acetate  \n",
       "1     DB01030          Topotecan  "
      ]
     },
     "execution_count": 5,
     "metadata": {},
     "output_type": "execute_result"
    }
   ],
   "source": [
    "goldstd.head(2)"
   ]
  },
  {
   "cell_type": "markdown",
   "metadata": {},
   "source": [
    "## Change column names for consistency"
   ]
  },
  {
   "cell_type": "code",
   "execution_count": 6,
   "metadata": {},
   "outputs": [],
   "source": [
    "goldstd = (goldstd\n",
    "    .assign(orphanet_id = lambda df: df[\"orphanet_id\"].map(\n",
    "        lambda v: \"ORPHA:{}\".format(v)\n",
    "    ))\n",
    "    .rename(columns={\n",
    "        \"orphanet_id\": \"disease_id\",\n",
    "        \"drugbank_id\": \"chemical_id\",\n",
    "        \"dise_name\": \"disease_name\",\n",
    "        \"drug_name\": \"chemical_name\"\n",
    "    })\n",
    ")"
   ]
  },
  {
   "cell_type": "code",
   "execution_count": 7,
   "metadata": {},
   "outputs": [
    {
     "data": {
      "text/plain": [
       "(2085, 6)"
      ]
     },
     "execution_count": 7,
     "metadata": {},
     "output_type": "execute_result"
    }
   ],
   "source": [
    "goldstd.shape"
   ]
  },
  {
   "cell_type": "code",
   "execution_count": 8,
   "metadata": {},
   "outputs": [
    {
     "data": {
      "text/html": [
       "<div>\n",
       "<style>\n",
       "    .dataframe thead tr:only-child th {\n",
       "        text-align: right;\n",
       "    }\n",
       "\n",
       "    .dataframe thead th {\n",
       "        text-align: left;\n",
       "    }\n",
       "\n",
       "    .dataframe tbody tr th {\n",
       "        vertical-align: top;\n",
       "    }\n",
       "</style>\n",
       "<table border=\"1\" class=\"dataframe\">\n",
       "  <thead>\n",
       "    <tr style=\"text-align: right;\">\n",
       "      <th></th>\n",
       "      <th>relationship_name</th>\n",
       "      <th>disease_id</th>\n",
       "      <th>disease_name</th>\n",
       "      <th>dise_type</th>\n",
       "      <th>chemical_id</th>\n",
       "      <th>chemical_name</th>\n",
       "    </tr>\n",
       "  </thead>\n",
       "  <tbody>\n",
       "    <tr>\n",
       "      <th>0</th>\n",
       "      <td>indication</td>\n",
       "      <td>ORPHA:213711</td>\n",
       "      <td>Endometrial stromal sarcoma</td>\n",
       "      <td>not_genetic</td>\n",
       "      <td>DB00351</td>\n",
       "      <td>Megestrol acetate</td>\n",
       "    </tr>\n",
       "    <tr>\n",
       "      <th>1</th>\n",
       "      <td>indication</td>\n",
       "      <td>ORPHA:70573</td>\n",
       "      <td>Small cell lung cancer</td>\n",
       "      <td>not_genetic</td>\n",
       "      <td>DB01030</td>\n",
       "      <td>Topotecan</td>\n",
       "    </tr>\n",
       "    <tr>\n",
       "      <th>2</th>\n",
       "      <td>off-label use</td>\n",
       "      <td>ORPHA:319</td>\n",
       "      <td>Ewing sarcoma</td>\n",
       "      <td>not_genetic</td>\n",
       "      <td>DB01030</td>\n",
       "      <td>Topotecan</td>\n",
       "    </tr>\n",
       "    <tr>\n",
       "      <th>3</th>\n",
       "      <td>indication</td>\n",
       "      <td>ORPHA:29073</td>\n",
       "      <td>Multiple myeloma</td>\n",
       "      <td>not_genetic</td>\n",
       "      <td>DB01042</td>\n",
       "      <td>Melphalan</td>\n",
       "    </tr>\n",
       "    <tr>\n",
       "      <th>4</th>\n",
       "      <td>off-label use</td>\n",
       "      <td>ORPHA:213711</td>\n",
       "      <td>Endometrial stromal sarcoma</td>\n",
       "      <td>not_genetic</td>\n",
       "      <td>DB00675</td>\n",
       "      <td>Tamoxifen</td>\n",
       "    </tr>\n",
       "  </tbody>\n",
       "</table>\n",
       "</div>"
      ],
      "text/plain": [
       "  relationship_name    disease_id                 disease_name    dise_type  \\\n",
       "0        indication  ORPHA:213711  Endometrial stromal sarcoma  not_genetic   \n",
       "1        indication   ORPHA:70573       Small cell lung cancer  not_genetic   \n",
       "2     off-label use     ORPHA:319                Ewing sarcoma  not_genetic   \n",
       "3        indication   ORPHA:29073             Multiple myeloma  not_genetic   \n",
       "4     off-label use  ORPHA:213711  Endometrial stromal sarcoma  not_genetic   \n",
       "\n",
       "  chemical_id      chemical_name  \n",
       "0     DB00351  Megestrol acetate  \n",
       "1     DB01030          Topotecan  \n",
       "2     DB01030          Topotecan  \n",
       "3     DB01042          Melphalan  \n",
       "4     DB00675          Tamoxifen  "
      ]
     },
     "execution_count": 8,
     "metadata": {},
     "output_type": "execute_result"
    }
   ],
   "source": [
    "goldstd.head()"
   ]
  },
  {
   "cell_type": "code",
   "execution_count": 9,
   "metadata": {},
   "outputs": [
    {
     "data": {
      "text/plain": [
       "indication       1305\n",
       "off-label use     780\n",
       "Name: relationship_name, dtype: int64"
      ]
     },
     "execution_count": 9,
     "metadata": {},
     "output_type": "execute_result"
    }
   ],
   "source": [
    "goldstd[\"relationship_name\"].value_counts()"
   ]
  },
  {
   "cell_type": "markdown",
   "metadata": {},
   "source": [
    "We will treat all indications as proper indications."
   ]
  },
  {
   "cell_type": "code",
   "execution_count": 10,
   "metadata": {},
   "outputs": [],
   "source": [
    "# goldstd = goldstd.drop(\"relationship_name\", axis=1).drop_duplicates()\n",
    "\n",
    "goldstd = (goldstd\n",
    "    .drop(\"relationship_name\", axis=1)\n",
    "    .drop_duplicates()\n",
    "    .assign(category = \"DM\")\n",
    ")"
   ]
  },
  {
   "cell_type": "code",
   "execution_count": 11,
   "metadata": {},
   "outputs": [
    {
     "data": {
      "text/plain": [
       "(2055, 6)"
      ]
     },
     "execution_count": 11,
     "metadata": {},
     "output_type": "execute_result"
    }
   ],
   "source": [
    "goldstd.shape"
   ]
  },
  {
   "cell_type": "markdown",
   "metadata": {},
   "source": [
    "---"
   ]
  },
  {
   "cell_type": "markdown",
   "metadata": {},
   "source": [
    "## Number of unique chemicals and diseases"
   ]
  },
  {
   "cell_type": "code",
   "execution_count": 12,
   "metadata": {},
   "outputs": [
    {
     "data": {
      "text/plain": [
       "607"
      ]
     },
     "execution_count": 12,
     "metadata": {},
     "output_type": "execute_result"
    }
   ],
   "source": [
    "goldstd[\"disease_id\"].nunique()"
   ]
  },
  {
   "cell_type": "code",
   "execution_count": 13,
   "metadata": {},
   "outputs": [
    {
     "data": {
      "text/plain": [
       "325"
      ]
     },
     "execution_count": 13,
     "metadata": {},
     "output_type": "execute_result"
    }
   ],
   "source": [
    "goldstd[\"chemical_id\"].nunique()"
   ]
  },
  {
   "cell_type": "code",
   "execution_count": 14,
   "metadata": {},
   "outputs": [
    {
     "data": {
      "text/plain": [
       "197275"
      ]
     },
     "execution_count": 14,
     "metadata": {},
     "output_type": "execute_result"
    }
   ],
   "source": [
    "# number of unique chemical/disease combinations\n",
    "\n",
    "goldstd[\"disease_id\"].nunique() * goldstd[\"chemical_id\"].nunique()"
   ]
  },
  {
   "cell_type": "markdown",
   "metadata": {},
   "source": [
    "## Split into multiple pieces\n",
    "\n",
    "For K-fold validation, the entire workflow needs to be run K times. The value of K is chosen to be 5 to avoid excessive computational requirements.\n",
    "\n",
    "We will split the data by assigning each piece of data a number from 0 to K-1, and group data rows according to the piece number. This will ensure that each row of data is used, and that the ratios of true/false examples per group is the same."
   ]
  },
  {
   "cell_type": "code",
   "execution_count": 15,
   "metadata": {},
   "outputs": [],
   "source": [
    "K = 5\n",
    "goldstd[\"piece\"] = np.random.randint(0, K, len(goldstd))"
   ]
  },
  {
   "cell_type": "code",
   "execution_count": 16,
   "metadata": {},
   "outputs": [
    {
     "data": {
      "text/html": [
       "<div>\n",
       "<style>\n",
       "    .dataframe thead tr:only-child th {\n",
       "        text-align: right;\n",
       "    }\n",
       "\n",
       "    .dataframe thead th {\n",
       "        text-align: left;\n",
       "    }\n",
       "\n",
       "    .dataframe tbody tr th {\n",
       "        vertical-align: top;\n",
       "    }\n",
       "</style>\n",
       "<table border=\"1\" class=\"dataframe\">\n",
       "  <thead>\n",
       "    <tr style=\"text-align: right;\">\n",
       "      <th></th>\n",
       "      <th>disease_id</th>\n",
       "      <th>disease_name</th>\n",
       "      <th>dise_type</th>\n",
       "      <th>chemical_id</th>\n",
       "      <th>chemical_name</th>\n",
       "      <th>category</th>\n",
       "      <th>piece</th>\n",
       "    </tr>\n",
       "  </thead>\n",
       "  <tbody>\n",
       "    <tr>\n",
       "      <th>0</th>\n",
       "      <td>ORPHA:213711</td>\n",
       "      <td>Endometrial stromal sarcoma</td>\n",
       "      <td>not_genetic</td>\n",
       "      <td>DB00351</td>\n",
       "      <td>Megestrol acetate</td>\n",
       "      <td>DM</td>\n",
       "      <td>0</td>\n",
       "    </tr>\n",
       "    <tr>\n",
       "      <th>1</th>\n",
       "      <td>ORPHA:70573</td>\n",
       "      <td>Small cell lung cancer</td>\n",
       "      <td>not_genetic</td>\n",
       "      <td>DB01030</td>\n",
       "      <td>Topotecan</td>\n",
       "      <td>DM</td>\n",
       "      <td>0</td>\n",
       "    </tr>\n",
       "    <tr>\n",
       "      <th>2</th>\n",
       "      <td>ORPHA:319</td>\n",
       "      <td>Ewing sarcoma</td>\n",
       "      <td>not_genetic</td>\n",
       "      <td>DB01030</td>\n",
       "      <td>Topotecan</td>\n",
       "      <td>DM</td>\n",
       "      <td>2</td>\n",
       "    </tr>\n",
       "    <tr>\n",
       "      <th>3</th>\n",
       "      <td>ORPHA:29073</td>\n",
       "      <td>Multiple myeloma</td>\n",
       "      <td>not_genetic</td>\n",
       "      <td>DB01042</td>\n",
       "      <td>Melphalan</td>\n",
       "      <td>DM</td>\n",
       "      <td>4</td>\n",
       "    </tr>\n",
       "    <tr>\n",
       "      <th>4</th>\n",
       "      <td>ORPHA:213711</td>\n",
       "      <td>Endometrial stromal sarcoma</td>\n",
       "      <td>not_genetic</td>\n",
       "      <td>DB00675</td>\n",
       "      <td>Tamoxifen</td>\n",
       "      <td>DM</td>\n",
       "      <td>1</td>\n",
       "    </tr>\n",
       "  </tbody>\n",
       "</table>\n",
       "</div>"
      ],
      "text/plain": [
       "     disease_id                 disease_name    dise_type chemical_id  \\\n",
       "0  ORPHA:213711  Endometrial stromal sarcoma  not_genetic     DB00351   \n",
       "1   ORPHA:70573       Small cell lung cancer  not_genetic     DB01030   \n",
       "2     ORPHA:319                Ewing sarcoma  not_genetic     DB01030   \n",
       "3   ORPHA:29073             Multiple myeloma  not_genetic     DB01042   \n",
       "4  ORPHA:213711  Endometrial stromal sarcoma  not_genetic     DB00675   \n",
       "\n",
       "       chemical_name category  piece  \n",
       "0  Megestrol acetate       DM      0  \n",
       "1          Topotecan       DM      0  \n",
       "2          Topotecan       DM      2  \n",
       "3          Melphalan       DM      4  \n",
       "4          Tamoxifen       DM      1  "
      ]
     },
     "execution_count": 16,
     "metadata": {},
     "output_type": "execute_result"
    }
   ],
   "source": [
    "goldstd.head()"
   ]
  },
  {
   "cell_type": "code",
   "execution_count": 17,
   "metadata": {},
   "outputs": [
    {
     "data": {
      "text/plain": [
       "0    0.206326\n",
       "1    0.201460\n",
       "2    0.199513\n",
       "3    0.197080\n",
       "4    0.195620\n",
       "Name: piece, dtype: float64"
      ]
     },
     "execution_count": 17,
     "metadata": {},
     "output_type": "execute_result"
    }
   ],
   "source": [
    "goldstd[\"piece\"].value_counts(normalize = True)"
   ]
  },
  {
   "cell_type": "markdown",
   "metadata": {},
   "source": [
    "---"
   ]
  },
  {
   "cell_type": "markdown",
   "metadata": {},
   "source": [
    "## Data separation\n",
    "\n",
    "Ensure that all possible chemical-disease pairs in the holdout set are missing from the training data. This is to ensure that the algorithm never sees data which will be used to test the trained model."
   ]
  },
  {
   "cell_type": "code",
   "execution_count": 18,
   "metadata": {},
   "outputs": [],
   "source": [
    "def all_pairs(df):\n",
    "    chem = df[\"chemical_id\"].unique()\n",
    "    dise = df[\"disease_id\"].unique()\n",
    "    \n",
    "    return set(product(chem, dise))\n",
    "\n",
    "def pair_to_df(pairs):\n",
    "    return pd.DataFrame(list(pairs), columns = [\"chemical_id\", \"disease_id\"])\n",
    "\n",
    "def df_to_pairs(df):\n",
    "    return set(zip(df[\"chemical_id\"], df[\"disease_id\"]))"
   ]
  },
  {
   "cell_type": "code",
   "execution_count": 19,
   "metadata": {},
   "outputs": [],
   "source": [
    "def split_data(withheld):\n",
    "    holdout = goldstd.query(\"piece == @withheld\")\n",
    "    train = goldstd.query(\"piece != @withheld\")\n",
    "    \n",
    "    holdout_assumed_false = all_pairs(holdout) - df_to_pairs(holdout) - df_to_pairs(train)\n",
    "    holdout_final = holdout.append(pair_to_df(holdout_assumed_false))\n",
    "    \n",
    "    #---------------------\n",
    "    \n",
    "    train_assumed_false = (all_pairs(train) - df_to_pairs(train)\n",
    "                           - df_to_pairs(holdout_final)\n",
    "    )\n",
    "    train_final = train.append(pair_to_df(train_assumed_false))\n",
    "    \n",
    "    assert df_to_pairs(train_final).isdisjoint(df_to_pairs(holdout_final))\n",
    "    return (holdout_final, train_final)"
   ]
  },
  {
   "cell_type": "code",
   "execution_count": 20,
   "metadata": {},
   "outputs": [],
   "source": [
    "holdouts = dict()\n",
    "training = dict()\n",
    "\n",
    "for withheld in range(K):\n",
    "    hold, train = split_data(withheld)\n",
    "    \n",
    "    holdouts[withheld] = hold.sort_values([\"chemical_id\", \"disease_id\"])\n",
    "    training[withheld] = train.sort_values([\"chemical_id\", \"disease_id\"])"
   ]
  },
  {
   "cell_type": "markdown",
   "metadata": {},
   "source": [
    "## Sort the data so that the data is stable"
   ]
  },
  {
   "cell_type": "code",
   "execution_count": 21,
   "metadata": {},
   "outputs": [],
   "source": [
    "goldstd = goldstd.sort_values([\"chemical_id\", \"disease_id\"])"
   ]
  },
  {
   "cell_type": "markdown",
   "metadata": {},
   "source": [
    "## Save split pieces to file"
   ]
  },
  {
   "cell_type": "markdown",
   "metadata": {
    "collapsed": true
   },
   "source": [
    "goldstd.to_csv(\"data/split_indications/labeled_pharmacotherapydb.tsv\", sep = '\\t', index = False)"
   ]
  },
  {
   "cell_type": "code",
   "execution_count": 22,
   "metadata": {},
   "outputs": [],
   "source": [
    "for idx in range(K):\n",
    "    fname = \"holdout\"\n",
    "    holdouts[idx].to_csv(\"data/{}/{}_piece{}.tsv\".format(fname, fname, idx), sep = '\\t', index = False)\n",
    "    \n",
    "    fname = \"training\"\n",
    "    training[idx].to_csv(\"data/{}/{}_piece{}.tsv\".format(fname, fname, idx), sep = '\\t', index = False)"
   ]
  }
 ],
 "metadata": {
  "kernelspec": {
   "display_name": "Python 3",
   "language": "python",
   "name": "python3"
  },
  "language_info": {
   "codemirror_mode": {
    "name": "ipython",
    "version": 3
   },
   "file_extension": ".py",
   "mimetype": "text/x-python",
   "name": "python",
   "nbconvert_exporter": "python",
   "pygments_lexer": "ipython3",
   "version": "3.6.2"
  }
 },
 "nbformat": 4,
 "nbformat_minor": 1
}
